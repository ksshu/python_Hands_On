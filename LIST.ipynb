{
  "nbformat": 4,
  "nbformat_minor": 0,
  "metadata": {
    "colab": {
      "provenance": [],
      "authorship_tag": "ABX9TyM/XoraMIndnjVSDAty7usm",
      "include_colab_link": true
    },
    "kernelspec": {
      "name": "python3",
      "display_name": "Python 3"
    },
    "language_info": {
      "name": "python"
    }
  },
  "cells": [
    {
      "cell_type": "markdown",
      "metadata": {
        "id": "view-in-github",
        "colab_type": "text"
      },
      "source": [
        "<a href=\"https://colab.research.google.com/github/ksshu/python_Hands_On/blob/main/LIST.ipynb\" target=\"_parent\"><img src=\"https://colab.research.google.com/assets/colab-badge.svg\" alt=\"Open In Colab\"/></a>"
      ]
    },
    {
      "cell_type": "markdown",
      "source": [
        "**List** is a collection which is ordered and changeable. Allows duplicate members.\n",
        "\n",
        "**Tuple**is a collection which is ordered and unchangeable. Allows duplicate members.\n",
        "\n",
        "**Set**is a collection which is unordered, unchangeable, and unindexed. No duplicate members.\n",
        "\n",
        "**Dictionary** is a collection which is ordered and changeable. No duplicate members."
      ],
      "metadata": {
        "id": "D81ocN6BEsMM"
      }
    },
    {
      "cell_type": "markdown",
      "source": [
        "**creating an empty list**"
      ],
      "metadata": {
        "id": "rRfIIQu2PI3F"
      }
    },
    {
      "cell_type": "code",
      "source": [
        "list1=[]\n"
      ],
      "metadata": {
        "id": "JBDEs9qmTLfm"
      },
      "execution_count": null,
      "outputs": []
    },
    {
      "cell_type": "code",
      "source": [
        "type(list1)"
      ],
      "metadata": {
        "id": "7FT2oumLPXZx"
      },
      "execution_count": null,
      "outputs": []
    },
    {
      "cell_type": "markdown",
      "source": [
        "**CREATING AN LIST**"
      ],
      "metadata": {
        "id": "H6KoLnZBT0YD"
      }
    },
    {
      "cell_type": "code",
      "source": [
        "LIST=[1,2,3,\"A\",1.23,45]\n",
        "LIST"
      ],
      "metadata": {
        "colab": {
          "base_uri": "https://localhost:8080/"
        },
        "id": "nqbhyNH5TLhQ",
        "outputId": "b8a730db-fefd-4572-ddfa-6088504c9971"
      },
      "execution_count": null,
      "outputs": [
        {
          "output_type": "execute_result",
          "data": {
            "text/plain": [
              "[1, 2, 3, 'A', 1.23, 45]"
            ]
          },
          "metadata": {},
          "execution_count": 11
        }
      ]
    },
    {
      "cell_type": "markdown",
      "source": [
        "**CHANGING VALUES IN A LIST WITH INDEXES**"
      ],
      "metadata": {
        "id": "9u1aTL6RUu_j"
      }
    },
    {
      "cell_type": "code",
      "source": [
        "SPAM=[\"CAT\",\"BAT\",\"RAT\",\"ELEPHANT\"]\n",
        "SPAM[0]=\"KSS\"\n",
        "SPAM[1]=\"SHUBHAM\"\n",
        "SPAM[3]=\"RP\"\n",
        "\n",
        "print(SPAM)\n"
      ],
      "metadata": {
        "colab": {
          "base_uri": "https://localhost:8080/"
        },
        "id": "j1SY2yuKUmF-",
        "outputId": "0e997251-cefb-4ff3-a590-050879cb56de"
      },
      "execution_count": null,
      "outputs": [
        {
          "output_type": "stream",
          "name": "stdout",
          "text": [
            "['KSS', 'SHUBHAM', 'RAT', 'RP']\n"
          ]
        }
      ]
    },
    {
      "cell_type": "markdown",
      "source": [
        "**LIST CONCATINATION**"
      ],
      "metadata": {
        "id": "KSX2EvW-VqqV"
      }
    },
    {
      "cell_type": "code",
      "source": [
        "[1,2,3]+[\"A\",\"B\",\"C\",\"D\"]\n",
        "\n"
      ],
      "metadata": {
        "colab": {
          "base_uri": "https://localhost:8080/"
        },
        "id": "1uc4zsvgTLk_",
        "outputId": "870040a6-e27b-4500-fad1-9e02bdc99013"
      },
      "execution_count": null,
      "outputs": [
        {
          "output_type": "execute_result",
          "data": {
            "text/plain": [
              "[1, 2, 3, 'A', 'B', 'C', 'D']"
            ]
          },
          "metadata": {},
          "execution_count": 19
        }
      ]
    },
    {
      "cell_type": "markdown",
      "source": [
        "**LIST REPLICATION**"
      ],
      "metadata": {
        "id": "1vSxGL6eWZ59"
      }
    },
    {
      "cell_type": "code",
      "source": [
        "[\"X\",\"Y\",\"Z\"]*3"
      ],
      "metadata": {
        "colab": {
          "base_uri": "https://localhost:8080/"
        },
        "id": "v9uW84m7TLmk",
        "outputId": "347c50eb-620a-4d25-daa6-5af33a994360"
      },
      "execution_count": null,
      "outputs": [
        {
          "output_type": "execute_result",
          "data": {
            "text/plain": [
              "['X', 'Y', 'Z', 'X', 'Y', 'Z', 'X', 'Y', 'Z']"
            ]
          },
          "metadata": {},
          "execution_count": 22
        }
      ]
    },
    {
      "cell_type": "markdown",
      "source": [
        "**getting individual values from list**\n"
      ],
      "metadata": {
        "id": "mYK_1ZrvUJum"
      }
    },
    {
      "cell_type": "code",
      "source": [
        "spam=[\"cat\",\"bat\",\"rat\",\"elephant\"]\n",
        "print(spam[3])\n",
        "\n"
      ],
      "metadata": {
        "colab": {
          "base_uri": "https://localhost:8080/"
        },
        "collapsed": true,
        "id": "r1wQpsQfTLqZ",
        "outputId": "822fb224-bc92-45da-b27a-55df66de55ec"
      },
      "execution_count": null,
      "outputs": [
        {
          "output_type": "stream",
          "name": "stdout",
          "text": [
            "elephant\n"
          ]
        }
      ]
    },
    {
      "cell_type": "markdown",
      "source": [
        "**getting VALUES with slices**"
      ],
      "metadata": {
        "id": "u3sfbehgUwin"
      }
    },
    {
      "cell_type": "code",
      "source": [
        "spam=[\"cat\",\"bat\",\"rat\",\"elephant\"]\n",
        "spam[:4]"
      ],
      "metadata": {
        "colab": {
          "base_uri": "https://localhost:8080/"
        },
        "id": "_tHvm4loTLwO",
        "outputId": "c46e647f-b23b-48bd-f44b-1f304ccc888a"
      },
      "execution_count": null,
      "outputs": [
        {
          "output_type": "execute_result",
          "data": {
            "text/plain": [
              "['bat', 'rat', 'elephant']"
            ]
          },
          "metadata": {},
          "execution_count": 1
        }
      ]
    },
    {
      "cell_type": "markdown",
      "source": [
        "**removing values from the list**"
      ],
      "metadata": {
        "id": "De8wW3ilV8yt"
      }
    },
    {
      "cell_type": "code",
      "source": [
        "spam=[\"cat\",\"bat\",\"rat\",\"elephant\"]\n",
        "del spam[2]\n",
        "spam.remove('cat')\n",
        "spam"
      ],
      "metadata": {
        "colab": {
          "base_uri": "https://localhost:8080/"
        },
        "id": "mX0BKc_ZTLx-",
        "outputId": "e2f22f5d-d48b-4a13-86a2-9a927b131ea3"
      },
      "execution_count": null,
      "outputs": [
        {
          "output_type": "execute_result",
          "data": {
            "text/plain": [
              "['bat', 'elephant']"
            ]
          },
          "metadata": {},
          "execution_count": 3
        }
      ]
    },
    {
      "cell_type": "markdown",
      "source": [
        "**iterating through list using for loop**"
      ],
      "metadata": {
        "id": "Hef9f8ISWM4v"
      }
    },
    {
      "cell_type": "code",
      "source": [
        "spam=[\"cat\",\"bat\",\"rat\",\"elephant\"]\n",
        "for i in spam:\n",
        "  print(i)"
      ],
      "metadata": {
        "colab": {
          "base_uri": "https://localhost:8080/"
        },
        "id": "MibjUkfJTL1r",
        "outputId": "bb1f6412-b3a7-40a7-b549-a5b8e2dbcdd6"
      },
      "execution_count": null,
      "outputs": [
        {
          "output_type": "stream",
          "name": "stdout",
          "text": [
            "cat\n",
            "bat\n",
            "rat\n",
            "elephant\n"
          ]
        }
      ]
    },
    {
      "cell_type": "markdown",
      "source": [
        "**The in and not operator in list**"
      ],
      "metadata": {
        "id": "i7jJd7QtWffQ"
      }
    },
    {
      "cell_type": "code",
      "source": [
        "\"ho\" in [\"hellow\",\"hi\",\"howdy\",\"hey\",\"ho\"]"
      ],
      "metadata": {
        "colab": {
          "base_uri": "https://localhost:8080/"
        },
        "id": "9tIdtUeYWb_E",
        "outputId": "f6caa21b-158a-45de-bf03-bdae7274074b"
      },
      "execution_count": null,
      "outputs": [
        {
          "output_type": "execute_result",
          "data": {
            "text/plain": [
              "False"
            ]
          },
          "metadata": {},
          "execution_count": 29
        }
      ]
    },
    {
      "cell_type": "markdown",
      "source": [
        "**find the values in list with the index() method**"
      ],
      "metadata": {
        "id": "0XHgfNO6XPPf"
      }
    },
    {
      "cell_type": "code",
      "source": [
        "spam=[\"cat\",\"bat\",\"rat\",\"elephant\"]\n",
        "spam.index(\"elephant\")"
      ],
      "metadata": {
        "colab": {
          "base_uri": "https://localhost:8080/"
        },
        "id": "gHUS00OOWTZt",
        "outputId": "38b0dc3d-cfc4-45b8-98b8-3a3d6b2e0416"
      },
      "execution_count": null,
      "outputs": [
        {
          "output_type": "execute_result",
          "data": {
            "text/plain": [
              "3"
            ]
          },
          "metadata": {},
          "execution_count": 32
        }
      ]
    },
    {
      "cell_type": "markdown",
      "source": [
        "**adding a value to the list**"
      ],
      "metadata": {
        "id": "dFOxpY3hXsIe"
      }
    },
    {
      "cell_type": "code",
      "source": [
        "spam=[\"cat\",\"bat\",\"rat\",\"elephant\"]\n",
        "spam.append(\"cow\")\n",
        "spam"
      ],
      "metadata": {
        "colab": {
          "base_uri": "https://localhost:8080/"
        },
        "id": "Grk3jah7WTbZ",
        "outputId": "4c991142-877b-4a82-ba31-f879748483ab"
      },
      "execution_count": null,
      "outputs": [
        {
          "output_type": "execute_result",
          "data": {
            "text/plain": [
              "['cat', 'bat', 'rat', 'elephant', 'cow']"
            ]
          },
          "metadata": {},
          "execution_count": 22
        }
      ]
    },
    {
      "cell_type": "markdown",
      "source": [],
      "metadata": {
        "id": "SvWGnJlmEVYu"
      }
    },
    {
      "cell_type": "code",
      "source": [],
      "metadata": {
        "id": "wAUrng-GEbwY"
      },
      "execution_count": null,
      "outputs": []
    },
    {
      "cell_type": "code",
      "source": [],
      "metadata": {
        "id": "neTBFCwZWTfO"
      },
      "execution_count": null,
      "outputs": []
    },
    {
      "cell_type": "code",
      "source": [],
      "metadata": {
        "id": "zZVj2Ca7WThq"
      },
      "execution_count": null,
      "outputs": []
    },
    {
      "cell_type": "code",
      "source": [],
      "metadata": {
        "id": "2gLKxE4RWTkv"
      },
      "execution_count": null,
      "outputs": []
    },
    {
      "cell_type": "code",
      "source": [],
      "metadata": {
        "id": "K2KOa7KyWTmT"
      },
      "execution_count": null,
      "outputs": []
    },
    {
      "cell_type": "code",
      "source": [],
      "metadata": {
        "id": "F63dqetBWTqG"
      },
      "execution_count": null,
      "outputs": []
    }
  ]
}