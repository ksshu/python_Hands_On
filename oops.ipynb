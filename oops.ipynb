{
  "nbformat": 4,
  "nbformat_minor": 0,
  "metadata": {
    "colab": {
      "provenance": [],
      "authorship_tag": "ABX9TyMqrsSorz+DSVvmWv7Ua1Dl",
      "include_colab_link": true
    },
    "kernelspec": {
      "name": "python3",
      "display_name": "Python 3"
    },
    "language_info": {
      "name": "python"
    }
  },
  "cells": [
    {
      "cell_type": "markdown",
      "metadata": {
        "id": "view-in-github",
        "colab_type": "text"
      },
      "source": [
        "<a href=\"https://colab.research.google.com/github/ksshu/python_Hands_On/blob/main/oops.ipynb\" target=\"_parent\"><img src=\"https://colab.research.google.com/assets/colab-badge.svg\" alt=\"Open In Colab\"/></a>"
      ]
    },
    {
      "cell_type": "markdown",
      "source": [
        "**Object Oriented** **Programming** is a fundamental concept in Python, empowering developers to build modular, maintainable, and scalable applications. By understanding the core OOP principles—classes, objects, inheritance, encapsulation, polymorphism, and abstraction—programmers can leverage the full potential of Python’s OOP capabilities to design elegant and efficient solutions to complex problems."
      ],
      "metadata": {
        "id": "Ea11peyC76cq"
      }
    },
    {
      "cell_type": "markdown",
      "source": [
        "**OOPs Concepts in Python**\n",
        "\n",
        "Inheritance in Python\n",
        "\n",
        "Polymorphism in Python\n",
        "\n",
        "Encapsulation in Python\n",
        "\n",
        "Data Abstraction in Python"
      ],
      "metadata": {
        "id": "WfTfQXAv8Q27"
      }
    },
    {
      "cell_type": "markdown",
      "source": [
        "**Inheritance in Python**\n",
        "\n",
        "In Python object oriented Programming, Inheritance is the capability of one class to derive or inherit the properties from another class. The class that derives properties is called the derived class or child class.\n",
        "\n",
        "**Types of Inheritance**\n",
        "\n",
        "**Single Inheritance:** Single-level inheritance enables a derived class to inherit characteristics from a single-parent class."
      ],
      "metadata": {
        "id": "w72E5hRK9AQk"
      }
    },
    {
      "cell_type": "code",
      "execution_count": null,
      "metadata": {
        "colab": {
          "base_uri": "https://localhost:8080/"
        },
        "id": "sO0-5JyF7yhn",
        "outputId": "db770a6a-b93a-4b99-faf9-93b78472c63a"
      },
      "outputs": [
        {
          "output_type": "stream",
          "name": "stdout",
          "text": [
            "My name is kss\n",
            "IdNumber:  123\n",
            "Post:  a\n"
          ]
        }
      ],
      "source": [
        "# parent class\n",
        "class Person:\n",
        "\n",
        "    # __init__ is known as the constructor\n",
        "    def __init__(self, name, idnumber):\n",
        "        self.name = name\n",
        "        self.idnumber = idnumber\n",
        "\n",
        "    def display(self):\n",
        "        print(self.name)\n",
        "        print(self.idnumber)\n",
        "\n",
        "    #def details(self):\n",
        "      #  print(\"My name is {}\".format(self.name))\n",
        "      #  print(\"IdNumber: {}\".format(self.idnumber))\n",
        "\n",
        "# child class\n",
        "class Employee(Person):\n",
        "    def __init__(self, name, idnumber, salary, post):\n",
        "        self.salary = salary\n",
        "        self.post = post\n",
        "\n",
        "  # invoking the __init__ of the parent class\n",
        "        Person.__init__(self, name, idnumber)\n",
        "\n",
        "    def details(self):\n",
        "        print(\"My name is\",(self.name))\n",
        "        print(\"IdNumber: \",(self.idnumber))\n",
        "        print(\"Post: \",(self.post))\n",
        "\n",
        "\n",
        "# creation of an object variable or an instance\n",
        "a=Employee(\"kss\",123,23,\"a\")\n",
        "\n",
        "# calling a function of the class Person using\n",
        "# its instance\n",
        "#a.display()\n",
        "a.details()\n"
      ]
    },
    {
      "cell_type": "markdown",
      "source": [
        "**Multiple** **Inheritance**\n",
        "When a class is derived from more than one base class it is called multiple Inheritance. The derived class inherits all the features of the base case.\n",
        "\n",
        "\n",
        "**Syntax:**\n",
        "\n",
        "Class Base1:\n",
        "\n",
        "\n",
        "       Body of the class\n",
        "\n",
        "Class Base2:\n",
        "\n",
        "\n",
        "     Body of the class\n",
        "\n",
        "Class Derived(Base1, Base2):\n",
        "\n",
        "\n",
        "     Body of the class"
      ],
      "metadata": {
        "id": "vUZE6Xft-tdZ"
      }
    },
    {
      "cell_type": "code",
      "source": [
        "class Father:\n",
        "    def method1(self):\n",
        "        print(\"Method from Father\")\n",
        "\n",
        "class Mother:\n",
        "    def method2(self):\n",
        "        print(\"Method from Mother\")\n",
        "\n",
        "class Child(Father, Mother):\n",
        "    def method3(self):\n",
        "        print(\"Method from Child\")\n",
        "\n",
        "# Create an instance of the Child class\n",
        "child = Child()\n",
        "\n",
        "# Call methods from both parent classes and the child class\n",
        "child.method1()  # Output: Method from Parent1\n",
        "child.method2()  # Output: Method from Parent2\n",
        "child.method3()  # Output: Method from Child\n",
        "\n"
      ],
      "metadata": {
        "colab": {
          "base_uri": "https://localhost:8080/"
        },
        "id": "ll0_EM_a71aY",
        "outputId": "972b755d-7bbe-4743-aa9f-87f99a95f008"
      },
      "execution_count": null,
      "outputs": [
        {
          "output_type": "stream",
          "name": "stdout",
          "text": [
            "Method from Father\n",
            "Method from Mother\n",
            "Method from Child\n"
          ]
        }
      ]
    },
    {
      "cell_type": "markdown",
      "source": [
        "**Multi level inheritance**"
      ],
      "metadata": {
        "id": "jB8Mnn_OePVQ"
      }
    },
    {
      "cell_type": "code",
      "source": [
        "class Grandparent:\n",
        "    def method_grandparent(self):\n",
        "        print(\"Method from Grandparent\")\n",
        "\n",
        "class Parent(Grandparent):\n",
        "    def method_parent(self):\n",
        "        print(\"Method from Parent\")\n",
        "\n",
        "class Child(Parent):\n",
        "    def method_child(self):\n",
        "        print(\"Method from Child\")\n",
        "\n",
        "# Create an instance of the Child class\n",
        "child = Child()\n",
        "\n",
        "# Call methods from all levels of the hierarchy\n",
        "child.method_grandparent()  # Output: Method from Grandparent\n",
        "child.method_parent()       # Output: Method from Parent\n",
        "child.method_child()        # Output: Method from Child\n"
      ],
      "metadata": {
        "id": "3r0GDVNs71cH",
        "colab": {
          "base_uri": "https://localhost:8080/"
        },
        "outputId": "788d19b8-eb7c-439a-a8f3-44e1dea31514"
      },
      "execution_count": null,
      "outputs": [
        {
          "output_type": "stream",
          "name": "stdout",
          "text": [
            "Method from Grandparent\n",
            "Method from Parent\n",
            "Method from Child\n"
          ]
        }
      ]
    },
    {
      "cell_type": "markdown",
      "source": [
        "**The super()** method in Python is a built-in function that allows you to call methods from a parent class within a child class.\n",
        "\n",
        "**key uses of super**\n",
        "\n",
        "**Calling Parent Class Methods:**\n",
        "When you override a method in a child class,\n",
        "\n",
        " you can use super() to call the method from the parent class.\n",
        "\n",
        "**Initializing Parent Class in __init__:**\n",
        "When a child class has its own __init__ method,\n",
        "\n",
        "it can use super().__init__() to ensure the parent class is properly initialized."
      ],
      "metadata": {
        "id": "SrQtA-9phXJJ"
      }
    },
    {
      "cell_type": "code",
      "source": [
        "class Father:\n",
        "    def greet(self):\n",
        "        print(\"Hello child\")\n",
        "\n",
        "class Child(Father):\n",
        "    def greet(self):\n",
        "\n",
        "        super().greet()  # Call the method from Parent\n",
        "        print(\"Hello dad\")\n",
        "\n",
        "child = Child()\n",
        "child.greet()\n",
        "# Output:\n",
        "# Hello from Parent\n",
        "# Hello from Child\n"
      ],
      "metadata": {
        "id": "UCBDNIKe71hL",
        "colab": {
          "base_uri": "https://localhost:8080/"
        },
        "outputId": "6c2cd540-a5f2-4c3b-c497-ae73ff54d239"
      },
      "execution_count": null,
      "outputs": [
        {
          "output_type": "stream",
          "name": "stdout",
          "text": [
            "Hello child\n",
            "Hello dad\n"
          ]
        }
      ]
    },
    {
      "cell_type": "code",
      "source": [
        "class Person:\n",
        "    def __init__(self, name, age):\n",
        "        self.name = name\n",
        "        self.age = age\n",
        "\n",
        "class Employee(Person):\n",
        "    def __init__(self, name, age, employee_id):\n",
        "\n",
        "        super().__init__(name, age)  # Initialize attributes from Person\n",
        "        self.employee_id = employee_id\n",
        "\n",
        "    def display_info(self):\n",
        "        print(\"hello my name is\" ,self.name)\n",
        "        print(\"my age is \",self.age)\n",
        "        print(\"my employee id is \",self.employee_id)\n",
        "\n",
        "employee = Employee(\"Alice\", 30, \"E123\")\n",
        "employee.display_info()\n",
        "# Output: Name: Alice, Age: 30, Employee ID: E123\n"
      ],
      "metadata": {
        "id": "3Vdsr4Li71k9",
        "colab": {
          "base_uri": "https://localhost:8080/"
        },
        "outputId": "c483a9ed-2e8a-4607-8ec0-308c17335b60"
      },
      "execution_count": null,
      "outputs": [
        {
          "output_type": "stream",
          "name": "stdout",
          "text": [
            "hello my name is Alice\n",
            "my age is  30\n",
            "my employee id is  E123\n"
          ]
        }
      ]
    },
    {
      "cell_type": "code",
      "source": [
        "class Grandparent:\n",
        "\t# Constructor to set Data\n",
        "\tdef __init__(self, name, roll, role):\n",
        "\t\tself.name = name\n",
        "\t\tself.roll = roll\n",
        "\t\tself.role = role\n",
        "\n",
        "# Intermediate Class: Inherits the Base Class\n",
        "class parent(Grandparent):\n",
        "\t# Constructor to set age\n",
        "\tdef __init__(self, age, name, roll, role):\n",
        "\t\tsuper().__init__(name, roll, role)\n",
        "\t\tself.age = age\n",
        "\n",
        "# Derived Class: Inherits the Intermediate Class\n",
        "class child(parent):\n",
        "\t# Method to Print Data\n",
        "\tdef __init__(self, age, name, roll, role):\n",
        "\t\tsuper().__init__(age, name, roll, role)\n",
        "\n",
        "\tdef Print_Data(self):\n",
        "\t\tprint(f\"The Name is : {self.name}\")\n",
        "\t\tprint(f\"The Age is : {self.age}\")\n",
        "\t\tprint(f\"The role is : {self.role}\")\n",
        "\t\tprint(f\"The Roll is : {self.roll}\")\n",
        "\n",
        "# Creating Object of Base Class\n",
        "obj = child(28, \"shubhma\", 25, \"Software Trainer\")\n",
        "\n",
        "# Printing the data with the help of derived class\n",
        "obj.Print_Data()\n"
      ],
      "metadata": {
        "id": "DUUz5Ir571nE",
        "colab": {
          "base_uri": "https://localhost:8080/"
        },
        "outputId": "06d80a5a-4c6a-4e4d-9933-388f90cb86fd"
      },
      "execution_count": null,
      "outputs": [
        {
          "output_type": "stream",
          "name": "stdout",
          "text": [
            "The Name is : shubhma\n",
            "The Age is : 28\n",
            "The role is : Software Trainer\n",
            "The Roll is : 25\n"
          ]
        }
      ]
    },
    {
      "cell_type": "code",
      "source": [
        "class grandfather:\n",
        "  def __init__(self,name,usn):\n",
        "    self.name=name\n",
        "    self.usn=usn\n",
        "  def great(self):\n",
        "    print(\"i am new to multilevel inheritance\")\n",
        "  def great(self):\n",
        "    print(\"i am new to multiple inheritance\")\n",
        "\n",
        "\n",
        "class grandmother:\n",
        "  def __init__(self,name,usn,sem,age):\n",
        "    self.sem=sem\n",
        "    self.age=age\n",
        "  def great(self):\n",
        "    print(\"i am new to multiple inheritance\")\n",
        "\n",
        "class parent(grandmother,grandfather):\n",
        "  def __init__(self,name,usn,sem,age,place,college):\n",
        "    grandfather.__init__(self,name,usn)\n",
        "    grandmother.__init__(self,name,usn,sem,age)\n",
        "    self.place=place\n",
        "    self.college=college\n",
        "\n",
        "\n",
        "class child(parent):\n",
        "  def __init__(self,name,usn,sem,age,place,college):\n",
        "    parent.__init__(self,name,usn,sem,age,place,college)\n",
        "  def show(self):\n",
        "    return self.name,self.usn,self.place,self.college\n",
        "\n",
        "obj1=child(\"shubham\",12,6,21,\"hubli\",\"agmr\")\n",
        "\n",
        "print(obj1.show())\n",
        "\n",
        "print(obj1.great())\n",
        "print(obj1.great())\n",
        "\n",
        "\n"
      ],
      "metadata": {
        "id": "9s8seCmS71qy",
        "colab": {
          "base_uri": "https://localhost:8080/"
        },
        "outputId": "10b2e12c-181d-468f-a6fa-31315616c09a"
      },
      "execution_count": null,
      "outputs": [
        {
          "output_type": "stream",
          "name": "stdout",
          "text": [
            "('shubham', 12, 'hubli', 'agmr')\n",
            "i am new to multiple inheritance\n",
            "None\n",
            "i am new to multiple inheritance\n",
            "None\n"
          ]
        }
      ]
    },
    {
      "cell_type": "code",
      "source": [],
      "metadata": {
        "id": "Ca9gyZvpNZ1b"
      },
      "execution_count": null,
      "outputs": []
    },
    {
      "cell_type": "code",
      "source": [],
      "metadata": {
        "id": "lTuXVDrD71s1"
      },
      "execution_count": null,
      "outputs": []
    },
    {
      "cell_type": "code",
      "source": [],
      "metadata": {
        "id": "LLWvp6OM71wp"
      },
      "execution_count": null,
      "outputs": []
    },
    {
      "cell_type": "code",
      "source": [],
      "metadata": {
        "id": "0BknTtFx71yj"
      },
      "execution_count": null,
      "outputs": []
    },
    {
      "cell_type": "code",
      "source": [],
      "metadata": {
        "id": "RzQFbxzo712u"
      },
      "execution_count": null,
      "outputs": []
    },
    {
      "cell_type": "code",
      "source": [],
      "metadata": {
        "id": "ABtk0mpr715p"
      },
      "execution_count": null,
      "outputs": []
    }
  ]
}