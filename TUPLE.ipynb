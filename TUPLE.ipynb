{
  "nbformat": 4,
  "nbformat_minor": 0,
  "metadata": {
    "colab": {
      "provenance": [],
      "authorship_tag": "ABX9TyPWpQhyJdUDcp6dU0Z21tJ6",
      "include_colab_link": true
    },
    "kernelspec": {
      "name": "python3",
      "display_name": "Python 3"
    },
    "language_info": {
      "name": "python"
    }
  },
  "cells": [
    {
      "cell_type": "markdown",
      "metadata": {
        "id": "view-in-github",
        "colab_type": "text"
      },
      "source": [
        "<a href=\"https://colab.research.google.com/github/ksshu/python_Hands_On/blob/main/TUPLE.ipynb\" target=\"_parent\"><img src=\"https://colab.research.google.com/assets/colab-badge.svg\" alt=\"Open In Colab\"/></a>"
      ]
    },
    {
      "cell_type": "markdown",
      "source": [
        "**CREATING TUPLES**\n"
      ],
      "metadata": {
        "id": "_VyCv05-cUyV"
      }
    },
    {
      "cell_type": "code",
      "execution_count": null,
      "metadata": {
        "colab": {
          "base_uri": "https://localhost:8080/"
        },
        "id": "lYccHEZkcLk9",
        "outputId": "56bc7b9c-7ce7-4ae0-a5c0-38ac51124340"
      },
      "outputs": [
        {
          "output_type": "execute_result",
          "data": {
            "text/plain": [
              "('SHUBHAM', 'VIJJU', 'RENUKA', 'SHWETA')"
            ]
          },
          "metadata": {},
          "execution_count": 1
        }
      ],
      "source": [
        "tuple=(\"SHUBHAM\",\"VIJJU\",\"RENUKA\",\"SHWETA\")\n",
        "tuple"
      ]
    },
    {
      "cell_type": "code",
      "source": [
        "len(tuple)"
      ],
      "metadata": {
        "colab": {
          "base_uri": "https://localhost:8080/"
        },
        "id": "2Blbmx9UcPjq",
        "outputId": "50bc0d5c-dd0d-4087-bf38-909dc1a2054b"
      },
      "execution_count": null,
      "outputs": [
        {
          "output_type": "execute_result",
          "data": {
            "text/plain": [
              "4"
            ]
          },
          "metadata": {},
          "execution_count": 9
        }
      ]
    },
    {
      "cell_type": "markdown",
      "source": [
        "**slicing in tuple**\n"
      ],
      "metadata": {
        "id": "UQYlEeLzfdqO"
      }
    },
    {
      "cell_type": "code",
      "source": [
        "tuple=(\"SHUBHAM\",\"VIJJU\",\"RENUKA\",\"SHWETA\")\n",
        "print(tuple[0:3])"
      ],
      "metadata": {
        "colab": {
          "base_uri": "https://localhost:8080/"
        },
        "id": "8J0wHGfScPnG",
        "outputId": "c46548c9-6ee5-44a4-fad3-f26dc24fabf2"
      },
      "execution_count": null,
      "outputs": [
        {
          "output_type": "stream",
          "name": "stdout",
          "text": [
            "('SHUBHAM', 'VIJJU', 'RENUKA')\n"
          ]
        }
      ]
    },
    {
      "cell_type": "markdown",
      "source": [],
      "metadata": {
        "id": "TwqOgIj1fy0a"
      }
    },
    {
      "cell_type": "code",
      "source": [
        "tuple=(\"SHUBHAM\",\"VIJJU\",\"RENUKA\",\"SHWETA\")\n",
        "print(tuple[1:4])"
      ],
      "metadata": {
        "colab": {
          "base_uri": "https://localhost:8080/"
        },
        "id": "iOBjtnFEcPo_",
        "outputId": "d6cf3cf5-02b6-4318-895b-286281eb1f48"
      },
      "execution_count": null,
      "outputs": [
        {
          "output_type": "stream",
          "name": "stdout",
          "text": [
            "('VIJJU', 'RENUKA', 'SHWETA')\n"
          ]
        }
      ]
    },
    {
      "cell_type": "code",
      "source": [
        "tuple1=(\"SHUBHAM\",\"VIJJU\",\"RENUKA\",\"SHWETA\")\n",
        "print(tuple1[2:-1])\n",
        "\n",
        "for i in tuple1:\n",
        "  print(i)"
      ],
      "metadata": {
        "colab": {
          "base_uri": "https://localhost:8080/"
        },
        "id": "VGZxbCebcPsy",
        "outputId": "e7b672bb-2796-45f3-987d-b605a5b0141d"
      },
      "execution_count": null,
      "outputs": [
        {
          "output_type": "stream",
          "name": "stdout",
          "text": [
            "('RENUKA',)\n",
            "SHUBHAM\n",
            "VIJJU\n",
            "RENUKA\n",
            "SHWETA\n"
          ]
        }
      ]
    },
    {
      "cell_type": "markdown",
      "source": [
        "**loop in tuples**"
      ],
      "metadata": {
        "id": "EN-49NKAkip7"
      }
    },
    {
      "cell_type": "code",
      "source": [
        "tuple1=(\"SHUBHAM\",\"VIJJU\",\"RENUKA\",\"SHWETA\")\n",
        "for i in range(len(tuple1)):\n",
        "  print(tuple1[i])"
      ],
      "metadata": {
        "colab": {
          "base_uri": "https://localhost:8080/"
        },
        "id": "1CfkjZ5hcPu7",
        "outputId": "b2b06163-3c07-4eb7-82a3-aa26a31b0dcd"
      },
      "execution_count": null,
      "outputs": [
        {
          "output_type": "stream",
          "name": "stdout",
          "text": [
            "SHUBHAM\n",
            "VIJJU\n",
            "RENUKA\n",
            "SHWETA\n"
          ]
        }
      ]
    },
    {
      "cell_type": "code",
      "source": [],
      "metadata": {
        "colab": {
          "base_uri": "https://localhost:8080/",
          "height": 141
        },
        "id": "9mGAV4eWcPyg",
        "outputId": "0bd5f673-12fa-4062-edec-c0e48daf4e27"
      },
      "execution_count": null,
      "outputs": [
        {
          "output_type": "error",
          "ename": "NameError",
          "evalue": "name 'tuple1' is not defined",
          "traceback": [
            "\u001b[0;31m---------------------------------------------------------------------------\u001b[0m",
            "\u001b[0;31mNameError\u001b[0m                                 Traceback (most recent call last)",
            "\u001b[0;32m<ipython-input-39-a2c9a38cd5f1>\u001b[0m in \u001b[0;36m<cell line: 1>\u001b[0;34m()\u001b[0m\n\u001b[0;32m----> 1\u001b[0;31m \u001b[0mtuple1\u001b[0m\u001b[0;34m\u001b[0m\u001b[0;34m\u001b[0m\u001b[0m\n\u001b[0m",
            "\u001b[0;31mNameError\u001b[0m: name 'tuple1' is not defined"
          ]
        }
      ]
    },
    {
      "cell_type": "code",
      "source": [],
      "metadata": {
        "id": "iV-AQF6ki2WN"
      },
      "execution_count": null,
      "outputs": []
    }
  ]
}