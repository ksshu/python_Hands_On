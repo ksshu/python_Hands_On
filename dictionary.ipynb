{
  "cells": [
    {
      "cell_type": "markdown",
      "metadata": {
        "id": "view-in-github",
        "colab_type": "text"
      },
      "source": [
        "<a href=\"https://colab.research.google.com/github/ksshu/python_Hands_On/blob/main/dictionary.ipynb\" target=\"_parent\"><img src=\"https://colab.research.google.com/assets/colab-badge.svg\" alt=\"Open In Colab\"/></a>"
      ]
    },
    {
      "cell_type": "markdown",
      "metadata": {
        "id": "qBjhKdAmsIMZ"
      },
      "source": [
        "**A Python dictionary is a data structure that stores the value in key:value pairs**."
      ]
    },
    {
      "cell_type": "code",
      "execution_count": null,
      "metadata": {
        "colab": {
          "base_uri": "https://localhost:8080/"
        },
        "id": "c2yOV84IfHzg",
        "outputId": "fcd3e131-f192-4adc-e42c-2f550779e142"
      },
      "outputs": [
        {
          "name": "stdout",
          "output_type": "stream",
          "text": [
            "{1: 'pramod', 2: 'manoj', 3: 'ashis'}\n"
          ]
        }
      ],
      "source": [
        "Dict = {1: 'pramod', 2: 'manoj', 3: 'ashis'}\n",
        "print(Dict)\n"
      ]
    },
    {
      "cell_type": "code",
      "execution_count": null,
      "metadata": {
        "colab": {
          "base_uri": "https://localhost:8080/"
        },
        "id": "hnCiY4BC_7IL",
        "outputId": "f5f6fa27-a98f-42b9-a418-427c082e6a84"
      },
      "outputs": [
        {
          "name": "stdout",
          "output_type": "stream",
          "text": [
            "\n",
            "Dictionary with the use of Integer Keys: \n",
            "{1: 'tarun', 2: 'prasad', 3: 'namita'}\n",
            "\n",
            "Dictionary with the use of Mixed Keys: \n",
            "{'Name': 'shantavva', 1: [1, 2, 3, 4]}\n"
          ]
        }
      ],
      "source": [
        "Dict = {1: 'tarun', 2: 'prasad', 3: 'namita'}\n",
        "print(\"\\nDictionary with the use of Integer Keys: \")\n",
        "print(Dict)\n",
        "\n",
        "Dict = {'Name': 'shantavva', 1: [1, 2, 3, 4]}\n",
        "print(\"\\nDictionary with the use of Mixed Keys: \")\n",
        "print(Dict)\n"
      ]
    },
    {
      "cell_type": "code",
      "execution_count": null,
      "metadata": {
        "colab": {
          "base_uri": "https://localhost:8080/"
        },
        "id": "EZJW3TQ4_7Qt",
        "outputId": "6ffdcb93-8205-4351-81e4-0151933ccbac"
      },
      "outputs": [
        {
          "name": "stdout",
          "output_type": "stream",
          "text": [
            "Empty Dictionary: \n",
            "{}\n",
            "\n",
            "Dictionary with the use of dict(): \n",
            "{1: 'savitri', 2: 'jyoti', 3: 'ananya'}\n",
            "\n",
            "Dictionary with each item as a pair: \n",
            "{1: 'savitri', 2: 'geeta'}\n"
          ]
        }
      ],
      "source": [
        "Dict = {}\n",
        "print(\"Empty Dictionary: \")\n",
        "print(Dict)\n",
        "\n",
        "Dict = dict({1: 'savitri', 2: 'jyoti', 3: 'ananya'})\n",
        "print(\"\\nDictionary with the use of dict(): \")\n",
        "print(Dict)\n",
        "\n",
        "Dict = dict([(1, 'savitri'), (2, 'geeta')])\n",
        "print(\"\\nDictionary with each item as a pair: \")\n",
        "print(Dict)\n"
      ]
    },
    {
      "cell_type": "markdown",
      "metadata": {
        "id": "2xb0PVP2tOIb"
      },
      "source": [
        "adding elements to the dictionary"
      ]
    },
    {
      "cell_type": "code",
      "execution_count": null,
      "metadata": {
        "colab": {
          "base_uri": "https://localhost:8080/"
        },
        "id": "3w4wZCKU_7YI",
        "outputId": "09c0bb1c-6ea0-4cac-cc53-13b071b13f0c"
      },
      "outputs": [
        {
          "name": "stdout",
          "output_type": "stream",
          "text": [
            "Empty Dictionary: \n",
            "{}\n",
            "\n",
            "Dictionary after adding 3 elements: \n",
            "{0: 'pyhon', 2: 'For', 3: 6}\n",
            "\n",
            "Dictionary after adding 3 elements: \n",
            "{0: 'pyhon', 2: 'For', 3: 6, 'Value_set': (2, 3, 4)}\n",
            "\n",
            "Updated key value: \n",
            "{0: 'pyhon', 2: 'Welcome', 3: 6, 'Value_set': (2, 3, 4)}\n",
            "\n",
            "Adding a Nested Key: \n",
            "{0: 'pyhon', 2: 'Welcome', 3: 6, 'Value_set': (2, 3, 4), 5: {'Nested': {'1': 'Life', '2': 'Geeks'}}}\n"
          ]
        }
      ],
      "source": [
        "Dict = {}\n",
        "print(\"Empty Dictionary: \")\n",
        "print(Dict)\n",
        "Dict[0] = 'pyhon'\n",
        "Dict[2] = 'For'\n",
        "Dict[3] = 6\n",
        "print(\"\\nDictionary after adding 3 elements: \")\n",
        "print(Dict)\n",
        "\n",
        "Dict['Value_set'] = 2, 3, 4\n",
        "print(\"\\nDictionary after adding 3 elements: \")\n",
        "print(Dict)\n",
        "\n",
        "Dict[2] = 'Welcome'\n",
        "print(\"\\nUpdated key value: \")\n",
        "print(Dict)\n",
        "Dict[5] = {'Nested': {'1': 'Life', '2': 'Geeks'}}\n",
        "print(\"\\nAdding a Nested Key: \")\n",
        "print(Dict)\n"
      ]
    },
    {
      "cell_type": "markdown",
      "metadata": {
        "id": "PQDlUDsFtofj"
      },
      "source": [
        "**Accessing Elements of a Dictionary**"
      ]
    },
    {
      "cell_type": "code",
      "execution_count": null,
      "metadata": {
        "colab": {
          "base_uri": "https://localhost:8080/"
        },
        "id": "SwZYkOBh_7eA",
        "outputId": "f8f98d6c-4217-4cb0-f99d-19420709a947"
      },
      "outputs": [
        {
          "name": "stdout",
          "output_type": "stream",
          "text": [
            "Accessing a element using key:\n",
            "For\n",
            "Accessing a element using key:\n",
            "python\n"
          ]
        }
      ],
      "source": [
        "Dict = {1: 'python', 'name': 'For', 3: 'ECE'}\n",
        "print(\"Accessing a element using key:\")\n",
        "print(Dict['name'])\n",
        "print(\"Accessing a element using key:\")\n",
        "print(Dict[1])\n"
      ]
    },
    {
      "cell_type": "markdown",
      "metadata": {
        "id": "7IgFtp4zt3GL"
      },
      "source": [
        "**Access a Value in Dictionary using get() in Python**"
      ]
    },
    {
      "cell_type": "code",
      "execution_count": null,
      "metadata": {
        "colab": {
          "base_uri": "https://localhost:8080/"
        },
        "id": "a2Xg3PHE_7jV",
        "outputId": "8bb063bc-fc45-4055-f916-cff44f93b912"
      },
      "outputs": [
        {
          "name": "stdout",
          "output_type": "stream",
          "text": [
            "Accessing a element using get:\n",
            "ECE\n"
          ]
        }
      ],
      "source": [
        "Dict = {1: 'PYTHON', 'name': 'For', 3: 'ECE'}\n",
        "\n",
        "print(\"Accessing a element using get:\")\n",
        "print(Dict.get(3))\n"
      ]
    },
    {
      "cell_type": "markdown",
      "metadata": {
        "id": "H6Ai7FtEuByQ"
      },
      "source": [
        "**Accessing an Element of a Nested Dictionary**"
      ]
    },
    {
      "cell_type": "code",
      "execution_count": null,
      "metadata": {
        "colab": {
          "base_uri": "https://localhost:8080/"
        },
        "id": "4AewjGFS_7pl",
        "outputId": "91e88f61-2abd-4557-d2ba-269a6247e07b"
      },
      "outputs": [
        {
          "name": "stdout",
          "output_type": "stream",
          "text": [
            "{1: 'AMAZON'}\n",
            "AMAZON\n",
            "RIVER\n"
          ]
        }
      ],
      "source": [
        "Dict = {'Dict1': {1: 'AMAZON'},\n",
        "\t\t'Dict2': {'Name': 'RIVER'}}\n",
        "\n",
        "print(Dict['Dict1'])\n",
        "print(Dict['Dict1'][1])\n",
        "print(Dict['Dict2']['Name'])\n"
      ]
    },
    {
      "cell_type": "markdown",
      "metadata": {
        "id": "vxo_4QV2uKsY"
      },
      "source": [
        "**Deleting Elements using ‘del’ Keyword**"
      ]
    },
    {
      "cell_type": "code",
      "execution_count": null,
      "metadata": {
        "colab": {
          "base_uri": "https://localhost:8080/"
        },
        "id": "EMn99Sfa_7vi",
        "outputId": "75ec34ef-b592-4e9c-bf4c-59636f3e4972"
      },
      "outputs": [
        {
          "name": "stdout",
          "output_type": "stream",
          "text": [
            "Dictionary =\n",
            "{1: 'PYTHON', 'name': 'For', 3: 'ECE'}\n",
            "Data after deletion Dictionary=\n",
            "{'name': 'For', 3: 'ECE'}\n"
          ]
        }
      ],
      "source": [
        "Dict = {1: 'PYTHON', 'name': 'For', 3: 'ECE'}\n",
        "\n",
        "print(\"Dictionary =\")\n",
        "print(Dict)\n",
        "del(Dict[1])\n",
        "print(\"Data after deletion Dictionary=\")\n",
        "print(Dict)\n"
      ]
    },
    {
      "cell_type": "markdown",
      "metadata": {
        "id": "ifzrufzXuig5"
      },
      "source": [
        "** Dictionary clear() Method**"
      ]
    },
    {
      "cell_type": "code",
      "execution_count": null,
      "metadata": {
        "colab": {
          "base_uri": "https://localhost:8080/"
        },
        "id": "hhtzZP4e_7xz",
        "outputId": "cb43edfe-871d-4530-9991-695fab7b5c19"
      },
      "outputs": [
        {
          "name": "stdout",
          "output_type": "stream",
          "text": [
            "{}\n"
          ]
        }
      ],
      "source": [
        "my_dict = {1: 'PYTHON', 'name': 'For', 3: 'ECE'}\n",
        "my_dict.clear()\n",
        "print(my_dict)\n"
      ]
    },
    {
      "cell_type": "markdown",
      "metadata": {
        "id": "ti-uTaPPuz1b"
      },
      "source": [
        "** Dictionary items() Method**"
      ]
    },
    {
      "cell_type": "code",
      "execution_count": null,
      "metadata": {
        "colab": {
          "background_save": true,
          "base_uri": "https://localhost:8080/"
        },
        "id": "XkKeTfd5_715",
        "outputId": "20ba443c-359a-49f0-cb3c-49e60709d2d8"
      },
      "outputs": [
        {
          "name": "stdout",
          "output_type": "stream",
          "text": [
            "[('Name', 'Ram'), ('Age', '19'), ('Country', 'India')]\n"
          ]
        }
      ],
      "source": [
        "d = {'Name': 'Ram', 'Age': '19', 'Country': 'India'}\n",
        "print(list(d.items())[1][0])\n",
        "print(list(d.items())[1][1])\n"
      ]
    },
    {
      "cell_type": "markdown",
      "metadata": {
        "id": "FKgxikDHvBZP"
      },
      "source": [
        " **Dictionary keys() Method**"
      ]
    },
    {
      "cell_type": "code",
      "execution_count": null,
      "metadata": {
        "colab": {
          "base_uri": "https://localhost:8080/"
        },
        "id": "bzkvdLch_78a",
        "outputId": "d0ac26ba-04cb-45ee-8cb7-25481276941a"
      },
      "outputs": [
        {
          "name": "stdout",
          "output_type": "stream",
          "text": [
            "dict_keys(['Name', 'Age', 'Country'])\n"
          ]
        }
      ],
      "source": [
        "d = {'Name': 'Ram', 'Age': '19', 'Country': 'India'}\n",
        "print(d.keys())\n"
      ]
    },
    {
      "cell_type": "markdown",
      "metadata": {
        "id": "VrlphBHpvLA4"
      },
      "source": [
        "**Dictionary values() Method**"
      ]
    },
    {
      "cell_type": "code",
      "execution_count": null,
      "metadata": {
        "colab": {
          "base_uri": "https://localhost:8080/"
        },
        "id": "6sUTgFkdvKXl",
        "outputId": "cf69306a-3c82-451e-f40f-dc7c7b417d59"
      },
      "outputs": [
        {
          "name": "stdout",
          "output_type": "stream",
          "text": [
            "['Ram', '19', 'India']\n"
          ]
        }
      ],
      "source": [
        "d = {'Name': 'Ram', 'Age': '19', 'Country': 'India'}\n",
        "print(list(d.values()))\n"
      ]
    },
    {
      "cell_type": "markdown",
      "metadata": {
        "id": "5obDCWRevTwe"
      },
      "source": [
        "**Dictionary update() Method**"
      ]
    },
    {
      "cell_type": "code",
      "execution_count": null,
      "metadata": {
        "colab": {
          "base_uri": "https://localhost:8080/"
        },
        "id": "zvva39ZlvKgT",
        "outputId": "04277609-8373-4ca4-ccce-c2b5ef58f009"
      },
      "outputs": [
        {
          "name": "stdout",
          "output_type": "stream",
          "text": [
            "{'Name': 'Neha', 'Age': '22', 'Country': 'India'}\n"
          ]
        }
      ],
      "source": [
        "d1 = {'Name': 'Ram', 'Age': '19', 'Country': 'India'}\n",
        "d2 = {'Name': 'Neha', 'Age': '22'}\n",
        "\n",
        "d1.update(d2)\n",
        "print(d1)\n"
      ]
    },
    {
      "cell_type": "markdown",
      "metadata": {
        "id": "dd2AbtNCvc9l"
      },
      "source": [
        "**Dictionary pop() Method**"
      ]
    },
    {
      "cell_type": "code",
      "execution_count": null,
      "metadata": {
        "colab": {
          "base_uri": "https://localhost:8080/"
        },
        "id": "X-zpAeEavKjZ",
        "outputId": "6167c06a-3d36-4990-f928-1c59fa72d75e"
      },
      "outputs": [
        {
          "name": "stdout",
          "output_type": "stream",
          "text": [
            "{'Name': 'Ram', 'Country': 'India'}\n"
          ]
        }
      ],
      "source": [
        "d = {'Name': 'Ram', 'Age': '19', 'Country': 'India'}\n",
        "d.pop('Age')\n",
        "print(d)\n"
      ]
    },
    {
      "cell_type": "markdown",
      "metadata": {
        "id": "bIy4GEcCvsxp"
      },
      "source": [
        "**Dictionary popitem() Method**"
      ]
    },
    {
      "cell_type": "code",
      "execution_count": null,
      "metadata": {
        "colab": {
          "base_uri": "https://localhost:8080/"
        },
        "id": "yLiIrEVGvsFP",
        "outputId": "eebfb36c-8b3f-4e53-d018-9908c74ad608"
      },
      "outputs": [
        {
          "name": "stdout",
          "output_type": "stream",
          "text": [
            "{'Name': 'Ram', 'Age': '19'}\n",
            "{'Name': 'Ram'}\n"
          ]
        }
      ],
      "source": [
        "d = {'Name': 'Ram', 'Age': '19', 'Country': 'India'}\n",
        "d.popitem()\n",
        "print(d)\n",
        "\n",
        "d.popitem()\n",
        "print(d)\n"
      ]
    }
  ],
  "metadata": {
    "colab": {
      "provenance": [],
      "authorship_tag": "ABX9TyP612OwvAAxPHCFdqBxOBgw",
      "include_colab_link": true
    },
    "kernelspec": {
      "display_name": "Python 3",
      "name": "python3"
    },
    "language_info": {
      "name": "python"
    }
  },
  "nbformat": 4,
  "nbformat_minor": 0
}