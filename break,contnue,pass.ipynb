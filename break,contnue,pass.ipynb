{
  "nbformat": 4,
  "nbformat_minor": 0,
  "metadata": {
    "colab": {
      "provenance": [],
      "authorship_tag": "ABX9TyOiM4nAfOLqMkV2yKQ4HcLv",
      "include_colab_link": true
    },
    "kernelspec": {
      "name": "python3",
      "display_name": "Python 3"
    },
    "language_info": {
      "name": "python"
    }
  },
  "cells": [
    {
      "cell_type": "markdown",
      "metadata": {
        "id": "view-in-github",
        "colab_type": "text"
      },
      "source": [
        "<a href=\"https://colab.research.google.com/github/ksshu/python_Hands_On/blob/main/break%2Ccontnue%2Cpass.ipynb\" target=\"_parent\"><img src=\"https://colab.research.google.com/assets/colab-badge.svg\" alt=\"Open In Colab\"/></a>"
      ]
    },
    {
      "cell_type": "markdown",
      "source": [
        "**Break Statement in Python**\n",
        "\n",
        "for / while loop:\n",
        "    # statement(s)\n",
        "    if condition:\n",
        "        break\n",
        "    # statement(s)\n",
        "    \n",
        "     loop end"
      ],
      "metadata": {
        "id": "xSRsLp75sd0m"
      }
    },
    {
      "cell_type": "code",
      "execution_count": null,
      "metadata": {
        "colab": {
          "base_uri": "https://localhost:8080/"
        },
        "id": "TZNN5P5TsWnK",
        "outputId": "ec65a2f7-fbbe-4ced-cf6b-475749586641"
      },
      "outputs": [
        {
          "output_type": "stream",
          "name": "stdout",
          "text": [
            "3   2\n",
            "4   2\n",
            "4   3\n"
          ]
        }
      ],
      "source": [
        "# Python program to demonstrate\n",
        "# break statement with nested\n",
        "# for loop\n",
        "\n",
        "# first for loop\n",
        "for i in range(2, 5):\n",
        "\t#print(i)\n",
        "\n",
        "\t# second for loop\n",
        "\tfor j in range(2, 6):\n",
        "\t\t#print(j)\n",
        "\n",
        "\t\t# break the loop if\n",
        "\t\t# j is divisible by i\n",
        "\t\tif j%i == 0:\n",
        "\t\t\tbreak\n",
        "\n",
        "\t\tprint(i, \" \", j)\n"
      ]
    },
    {
      "cell_type": "markdown",
      "source": [
        "**Syntax of Continue Statement**\n",
        "\n",
        "for / while loop:\n",
        "    # statement(s)\n",
        "    if condition:\n",
        "        continue\n",
        "    # statement(s)"
      ],
      "metadata": {
        "id": "d8rPlW9htO1Y"
      }
    },
    {
      "cell_type": "code",
      "source": [
        "# Python program to\n",
        "# demonstrate continue\n",
        "# statement\n",
        "\n",
        "# loop from 1 to 10\n",
        "for i in range(1, 11):\n",
        "\n",
        "\t# If i is equals to 6,\n",
        "\t# continue to next iteration\n",
        "\t# without printing\n",
        "\tif i == 6:\n",
        "\t\tcontinue\n",
        "\telse:\n",
        "\t\t# otherwise print the value\n",
        "\t\t# of i\n",
        "\t\tprint(i)\n"
      ],
      "metadata": {
        "colab": {
          "base_uri": "https://localhost:8080/"
        },
        "id": "rs1XXaS8tNvL",
        "outputId": "ee345223-18b8-4a8c-d708-0f7eee1aacee"
      },
      "execution_count": null,
      "outputs": [
        {
          "output_type": "stream",
          "name": "stdout",
          "text": [
            "1\n",
            "2\n",
            "3\n",
            "4\n",
            "5\n",
            "7\n",
            "8\n",
            "9\n",
            "10\n"
          ]
        }
      ]
    },
    {
      "cell_type": "code",
      "source": [],
      "metadata": {
        "id": "bdRCdldBtNxD"
      },
      "execution_count": null,
      "outputs": []
    },
    {
      "cell_type": "code",
      "source": [],
      "metadata": {
        "id": "pn_qrC0RtN0a"
      },
      "execution_count": null,
      "outputs": []
    },
    {
      "cell_type": "code",
      "source": [],
      "metadata": {
        "id": "KXQOOaT2tN2z"
      },
      "execution_count": null,
      "outputs": []
    },
    {
      "cell_type": "code",
      "source": [],
      "metadata": {
        "id": "G_PrE90-tN6r"
      },
      "execution_count": null,
      "outputs": []
    }
  ]
}