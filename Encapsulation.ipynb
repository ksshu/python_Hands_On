{
  "nbformat": 4,
  "nbformat_minor": 0,
  "metadata": {
    "colab": {
      "provenance": [],
      "authorship_tag": "ABX9TyN1OIPkJABv6NDpgPRTRL+y",
      "include_colab_link": true
    },
    "kernelspec": {
      "name": "python3",
      "display_name": "Python 3"
    },
    "language_info": {
      "name": "python"
    }
  },
  "cells": [
    {
      "cell_type": "markdown",
      "metadata": {
        "id": "view-in-github",
        "colab_type": "text"
      },
      "source": [
        "<a href=\"https://colab.research.google.com/github/ksshu/python_Hands_On/blob/main/Encapsulation.ipynb\" target=\"_parent\"><img src=\"https://colab.research.google.com/assets/colab-badge.svg\" alt=\"Open In Colab\"/></a>"
      ]
    },
    {
      "cell_type": "markdown",
      "source": [
        "**Encapsulation** is one of the fundamental concepts in object-oriented programming (OOP). It describes the idea of wrapping data and the methods that work on data within one unit. This puts restrictions on accessing variables and methods directly and can prevent the accidental modification of data. To prevent accidental change, an object’s variable can only be changed by an object’s method. Those types of variables are known as private variables.\n",
        "\n"
      ],
      "metadata": {
        "id": "py9MPbZIKHuG"
      }
    },
    {
      "cell_type": "code",
      "execution_count": null,
      "metadata": {
        "colab": {
          "base_uri": "https://localhost:8080/"
        },
        "id": "UZCYHB3BJT2d",
        "outputId": "4e82e4db-5a51-4d7e-a21d-2cd4958247dd"
      },
      "outputs": [
        {
          "output_type": "stream",
          "name": "stdout",
          "text": [
            "Calling protected member of base class:  2\n",
            "Calling modified protected member outside class:  3\n",
            "Accessing protected member of obj1:  2\n",
            "Accessing protected member of obj2:  3\n"
          ]
        }
      ],
      "source": [
        "\n",
        "class parent:\n",
        "\tdef __init__(self):\n",
        "\n",
        "\t\t# Protected member\n",
        "\t\tself._a = 2\n",
        "\n",
        "\n",
        "class child(parent):\n",
        "\tdef __init__(self):\n",
        "\n",
        "\t\t# Calling constructor of\n",
        "\t\t# Base class\n",
        "\t\tparent.__init__(self)\n",
        "\t\tprint(\"Calling protected member of base class: \",\n",
        "\t\t\tself._a)\n",
        "\t\t#Modify the protected variable:\n",
        "\t\tself._a = 3\n",
        "\t\tprint(\"Calling modified protected member outside class: \",\n",
        "\t\t\tself._a)\n",
        "\n",
        "\n",
        "obj1 = parent()\n",
        "\n",
        "obj2 = child()\n",
        "\n",
        "\n",
        "print(\"Accessing protected member of obj1: \", obj1._a)\n",
        "\n",
        "print(\"Accessing protected member of obj2: \", obj2._a)\n"
      ]
    },
    {
      "cell_type": "markdown",
      "source": [
        "**Private members**\n",
        "\n",
        "\n",
        "Private members are similar to protected members, the difference is that the class members declared private should neither be accessed outside the class nor by any base class. In Python, there is no existence of Private instance variables that cannot be accessed except inside a class.\n",
        "\n",
        "However, to define a private member prefix the member name with double underscore “__”."
      ],
      "metadata": {
        "id": "IMyqDvohKiSt"
      }
    },
    {
      "cell_type": "code",
      "source": [
        "\n",
        "\n",
        "class parent:\n",
        "\tdef __init__(self):\n",
        "\t\tself.a = \"i love python\"\n",
        "\t\tself.__c = \"python is base for AI\"\n",
        "\n",
        "# Creating a derived class\n",
        "class child(parent):\n",
        "\tdef __init__(self):\n",
        "\n",
        "\t\t# Calling constructor of\n",
        "\t\t# Base class\n",
        "\t\tparent.__init__(self)\n",
        "\t\tprint(\"Calling private member of base class: \")\n",
        "\t\tprint(self.__c)\n",
        "\n",
        "\n",
        "\n",
        "# Driver code\n",
        "obj1 = parent()\n",
        "#obj2= child()\n",
        "\n",
        "print(obj1.a)\n",
        "\n",
        "\n",
        "\n",
        "\n"
      ],
      "metadata": {
        "colab": {
          "base_uri": "https://localhost:8080/"
        },
        "id": "VhMmj1-rKhQo",
        "outputId": "96b22baf-9661-430b-e69c-2fff68621822"
      },
      "execution_count": null,
      "outputs": [
        {
          "output_type": "stream",
          "name": "stdout",
          "text": [
            "i love python\n"
          ]
        }
      ]
    },
    {
      "cell_type": "code",
      "source": [],
      "metadata": {
        "id": "yXuMaJrlKhWd"
      },
      "execution_count": null,
      "outputs": []
    },
    {
      "cell_type": "code",
      "source": [],
      "metadata": {
        "id": "dUD1n166KhZP"
      },
      "execution_count": null,
      "outputs": []
    },
    {
      "cell_type": "code",
      "source": [],
      "metadata": {
        "id": "HZQc9zdsKhcc"
      },
      "execution_count": null,
      "outputs": []
    },
    {
      "cell_type": "code",
      "source": [],
      "metadata": {
        "id": "Y3hiRUsuKhgG"
      },
      "execution_count": null,
      "outputs": []
    }
  ]
}