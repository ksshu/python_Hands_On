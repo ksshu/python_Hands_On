{
  "nbformat": 4,
  "nbformat_minor": 0,
  "metadata": {
    "colab": {
      "provenance": [],
      "authorship_tag": "ABX9TyMlGlufYhGMi0zApHStdZAS",
      "include_colab_link": true
    },
    "kernelspec": {
      "name": "python3",
      "display_name": "Python 3"
    },
    "language_info": {
      "name": "python"
    }
  },
  "cells": [
    {
      "cell_type": "markdown",
      "metadata": {
        "id": "view-in-github",
        "colab_type": "text"
      },
      "source": [
        "<a href=\"https://colab.research.google.com/github/ksshu/python_Hands_On/blob/main/class.ipynb\" target=\"_parent\"><img src=\"https://colab.research.google.com/assets/colab-badge.svg\" alt=\"Open In Colab\"/></a>"
      ]
    },
    {
      "cell_type": "markdown",
      "source": [
        "**A class** is a user-defined  prototype from which objects are created.Creating a new class creates a new type of object.\n",
        "Class instances can also have methods (defined by their class) for modifying their state."
      ],
      "metadata": {
        "id": "cpRhnCCib1SL"
      }
    },
    {
      "cell_type": "markdown",
      "source": [
        "**syntax for class(class defination)**\n",
        "\n",
        "class ClassName:\n",
        "\n",
        "\n",
        "    # Statement"
      ],
      "metadata": {
        "id": "acYHJSY9c7Z8"
      }
    },
    {
      "cell_type": "markdown",
      "source": [
        "**Syntax: Object Definition**\n",
        "\n",
        "obj = ClassName()\n",
        "\n",
        "\n",
        "print(obj.atrr)"
      ],
      "metadata": {
        "id": "dCW1E8dOdP7q"
      }
    },
    {
      "cell_type": "markdown",
      "source": [
        "**Some points on Python class:**\n",
        "\n",
        "Classes are created by keyword class.\n",
        "\n",
        "\n",
        "Attributes are the variables that belong to a class.\n",
        "\n",
        "\n",
        "Attributes are always public and can be accessed using the dot (.) operator. Eg.: My class.Myattribute"
      ],
      "metadata": {
        "id": "l3IW35nndfh1"
      }
    },
    {
      "cell_type": "markdown",
      "source": [
        "**Creating a Python Class**"
      ],
      "metadata": {
        "id": "oQIzUu_wdsvf"
      }
    },
    {
      "cell_type": "code",
      "execution_count": null,
      "metadata": {
        "id": "mZAq41fsbMwt",
        "colab": {
          "base_uri": "https://localhost:8080/"
        },
        "outputId": "28a566d3-2bd6-48ad-d422-10c98d7b8329"
      },
      "outputs": [
        {
          "output_type": "stream",
          "name": "stdout",
          "text": [
            "meow\n"
          ]
        }
      ],
      "source": [
        "class cat:\n",
        "    sound = \"meow\"\n",
        "    obj1 = cat()\n",
        "    print(obj1.sound)\n",
        "\n",
        "\n"
      ]
    },
    {
      "cell_type": "markdown",
      "source": [
        "**Example of Python Class and object**"
      ],
      "metadata": {
        "id": "AOI4CNKTd3hu"
      }
    },
    {
      "cell_type": "code",
      "source": [
        "\n",
        "class cat:\n",
        "    sound=\"meow\"\n",
        "    attr1 = \"mammal\"\n",
        "    attr2 = \"dog\"\n",
        "    def fun(self):\n",
        "        print(\"I'm \", self.sound)\n",
        "        print(\"I'm a\", self.attr1)\n",
        "        print(\"I'm a\", self.attr2)\n",
        "\n",
        "obj1 = cat()\n",
        "print(obj1.attr1)\n",
        "obj1.fun()"
      ],
      "metadata": {
        "colab": {
          "base_uri": "https://localhost:8080/"
        },
        "id": "Yltdj9NmbN6Y",
        "outputId": "f6407062-247a-4e3f-f61e-d9433e6f44e8"
      },
      "execution_count": null,
      "outputs": [
        {
          "output_type": "stream",
          "name": "stdout",
          "text": [
            "mammal\n",
            "I'm  meow\n",
            "I'm a mammal\n",
            "I'm a dog\n"
          ]
        }
      ]
    },
    {
      "cell_type": "markdown",
      "source": [
        "**self parameter**"
      ],
      "metadata": {
        "id": "51cBams1ehkn"
      }
    },
    {
      "cell_type": "code",
      "source": [
        "class shubham:\n",
        "    def __init__(self, name, company):\n",
        "        self.name = name\n",
        "        self.company = company\n",
        "\n",
        "    def show(self):\n",
        "        print(\"Hello my name is \",self.name)\n",
        "        print(\"I work in \",self.company)\n",
        "obj1=shubham(\"SHUBHBAM\",\"AGMRCET\")\n",
        "obj1.show()"
      ],
      "metadata": {
        "colab": {
          "base_uri": "https://localhost:8080/"
        },
        "id": "x8vfCOHmbN-z",
        "outputId": "834b9ef7-26d2-4b9d-a6a3-bcacd6296d91"
      },
      "execution_count": null,
      "outputs": [
        {
          "output_type": "stream",
          "name": "stdout",
          "text": [
            "Hello my name is  SHUBHBAM\n",
            "I work in  AGMRCET\n"
          ]
        }
      ]
    },
    {
      "cell_type": "markdown",
      "source": [
        "**__init__ method**\n",
        "\n",
        "__init__ method is like default constructor in C++ and Java. Constructors are used to initialize the object’s state."
      ],
      "metadata": {
        "id": "TLwCfqH5SfR8"
      }
    },
    {
      "cell_type": "code",
      "source": [
        "class shubham:\n",
        "    def __init__(somename, name, company):\n",
        "        somename.name = name\n",
        "        somename.company = company\n",
        "\n",
        "    def show(somename):\n",
        "       print(\"Hello my name is \" + somename.name +\n",
        "              \" and I work in \"+somename.company+\".\")\n",
        "\n",
        "obj1=shubham(\"BHAVANA\",\"INTEL\")\n",
        "print(obj1.name,obj1.company)\n",
        "obj1.show()"
      ],
      "metadata": {
        "colab": {
          "base_uri": "https://localhost:8080/"
        },
        "id": "0au-lRztbOFG",
        "outputId": "65005d86-ef0d-4575-f7ca-a8b2eb59d780"
      },
      "execution_count": null,
      "outputs": [
        {
          "output_type": "stream",
          "name": "stdout",
          "text": [
            "BHAVANA INTEL\n",
            "Hello my name is BHAVANA and I work in INTEL.\n"
          ]
        }
      ]
    },
    {
      "cell_type": "markdown",
      "source": [
        "**pass parameter**"
      ],
      "metadata": {
        "id": "dE0OYHZWe_uG"
      }
    },
    {
      "cell_type": "code",
      "source": [
        "class MyClass:\n",
        "    pass"
      ],
      "metadata": {
        "id": "eWpLfSSVbOHh"
      },
      "execution_count": null,
      "outputs": []
    },
    {
      "cell_type": "markdown",
      "source": [
        "**__init__() method**"
      ],
      "metadata": {
        "id": "hVvR4G5OfMWs"
      }
    },
    {
      "cell_type": "code",
      "source": [
        "# Sample class with init method\n",
        "class Person:\n",
        "\n",
        "    # init method or constructor\n",
        "    def __init__(self, name):\n",
        "        self.name = name\n",
        "\n",
        "    # Sample Method\n",
        "    def say_hi(self):\n",
        "        print('Hello, my name is', self.name)\n",
        "\n",
        "\n",
        "p = Person('shubham')\n",
        "p.say_hi()"
      ],
      "metadata": {
        "colab": {
          "base_uri": "https://localhost:8080/"
        },
        "id": "RjKxWRcUbOLn",
        "outputId": "8e811f63-5cf7-4042-a23f-6163d5bea868"
      },
      "execution_count": null,
      "outputs": [
        {
          "output_type": "stream",
          "name": "stdout",
          "text": [
            "Hello, my name is shubham\n"
          ]
        }
      ]
    },
    {
      "cell_type": "markdown",
      "source": [
        "**__str__() method**"
      ],
      "metadata": {
        "id": "dC9TBRcEfar4"
      }
    },
    {
      "cell_type": "code",
      "source": [
        "class GFG:\n",
        "    def __init__(self, name, company):\n",
        "        self.name = name\n",
        "        self.company = company\n",
        "\n",
        "    def __str__(self):\n",
        "        return f\"My name is {self.name} and I work in {self.company}.\"\n",
        "\n",
        "\n",
        "my_obj = GFG(\"shubham\", \"indeera and sons company\")\n",
        "print(my_obj)"
      ],
      "metadata": {
        "colab": {
          "base_uri": "https://localhost:8080/"
        },
        "id": "pfbVuWPKbOOi",
        "outputId": "5a71235e-1374-4ff1-a5e0-96469923a1ff"
      },
      "execution_count": null,
      "outputs": [
        {
          "output_type": "stream",
          "name": "stdout",
          "text": [
            "My name is shubham and I work in indeera and sons company.\n"
          ]
        }
      ]
    },
    {
      "cell_type": "code",
      "source": [],
      "metadata": {
        "id": "zTXYDAlz-SnW"
      },
      "execution_count": null,
      "outputs": []
    }
  ]
}