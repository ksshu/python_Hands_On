{
  "nbformat": 4,
  "nbformat_minor": 0,
  "metadata": {
    "colab": {
      "provenance": [],
      "authorship_tag": "ABX9TyPhBoQzkVXSjCeN5k0XEbhL",
      "include_colab_link": true
    },
    "kernelspec": {
      "name": "python3",
      "display_name": "Python 3"
    },
    "language_info": {
      "name": "python"
    }
  },
  "cells": [
    {
      "cell_type": "markdown",
      "metadata": {
        "id": "view-in-github",
        "colab_type": "text"
      },
      "source": [
        "<a href=\"https://colab.research.google.com/github/ksshu/python_Hands_On/blob/main/polymorphism.ipynb\" target=\"_parent\"><img src=\"https://colab.research.google.com/assets/colab-badge.svg\" alt=\"Open In Colab\"/></a>"
      ]
    },
    {
      "cell_type": "markdown",
      "source": [
        "**What is Polymorphism:** The word polymorphism means having many forms. In programming, polymorphism means the same function name being used for different types. The key difference is the data types and number of arguments used in function."
      ],
      "metadata": {
        "id": "u8uOFYtHXMYA"
      }
    },
    {
      "cell_type": "code",
      "execution_count": null,
      "metadata": {
        "colab": {
          "base_uri": "https://localhost:8080/"
        },
        "id": "23juTwdpWzkd",
        "outputId": "f5ba8242-9b8f-4ecb-de98-48c0f6a5356f"
      },
      "outputs": [
        {
          "output_type": "stream",
          "name": "stdout",
          "text": [
            "I Megha studying in AGMRCET\n",
            "i am from ece\n",
            "i am studying in 6th sem\n",
            "I Geeta studying in AGMRCET\n",
            "I am from ECE\n",
            "i am studying in 6th sem\n",
            "I Megha studying in AGMRCET\n",
            "i am from ece\n",
            "i am studying in 6th sem\n",
            "I Geeta studying in AGMRCET\n",
            "I am from ECE\n",
            "i am studying in 6th sem\n",
            "I Megha studying in AGMRCET\n",
            "i am from ece\n",
            "i am studying in 6th sem\n",
            "I Geeta studying in AGMRCET\n",
            "I am from ECE\n",
            "i am studying in 6th sem\n",
            "I Megha studying in AGMRCET\n",
            "i am from ece\n",
            "i am studying in 6th sem\n",
            "I Geeta studying in AGMRCET\n",
            "I am from ECE\n",
            "i am studying in 6th sem\n",
            "I Megha studying in AGMRCET\n",
            "i am from ece\n",
            "i am studying in 6th sem\n",
            "I Geeta studying in AGMRCET\n",
            "I am from ECE\n",
            "i am studying in 6th sem\n",
            "I Megha studying in AGMRCET\n",
            "i am from ece\n",
            "i am studying in 6th sem\n",
            "I Geeta studying in AGMRCET\n",
            "I am from ECE\n",
            "i am studying in 6th sem\n",
            "I Megha studying in AGMRCET\n",
            "i am from ece\n",
            "i am studying in 6th sem\n",
            "I Geeta studying in AGMRCET\n",
            "I am from ECE\n",
            "i am studying in 6th sem\n",
            "I Megha studying in AGMRCET\n",
            "i am from ece\n",
            "i am studying in 6th sem\n",
            "I Geeta studying in AGMRCET\n",
            "I am from ECE\n",
            "i am studying in 6th sem\n"
          ]
        }
      ],
      "source": [
        "class megha():\n",
        "\n",
        "\tdef college(self):\n",
        "\t\tprint(\"I Megha studying in AGMRCET\")\n",
        "\n",
        "\tdef department(self):\n",
        "\t\tprint(\"i am from ece\")\n",
        "\n",
        "\tdef sem(self):\n",
        "\t\tprint(\"i am studying in 6th sem\")\n",
        "\n",
        "class geeta():\n",
        "\n",
        "\tdef college(self):\n",
        "\t\tprint(\"I Geeta studying in AGMRCET\")\n",
        "\n",
        "\tdef department(self):\n",
        "\t\tprint(\"I am from ECE\")\n",
        "\n",
        "\tdef sem(self):\n",
        "\t\tprint(\"i am studying in 6th sem\")\n",
        "\n",
        "obj1= megha()\n",
        "obj2 = geeta()\n",
        "obj3=megha()\n",
        "obj4=geeta()\n",
        "\n",
        "for girls in (obj1, obj2,obj3,obj4):\n",
        "\tobj1.college()\n",
        "\tobj1.department()\n",
        "\tobj1.sem()\n",
        "\tobj2.college()\n",
        "\tobj2.department()\n",
        "\tobj2.sem()\n",
        "\tobj3.college()\n",
        "\tobj3.department()\n",
        "\tobj3.sem()\n",
        "\tobj4.college()\n",
        "\tobj4.department()\n",
        "\tobj4.sem()\n"
      ]
    },
    {
      "cell_type": "markdown",
      "source": [
        "**Polymorphism with Inheritance**\n",
        "\n",
        "In Python, Polymorphism lets us define methods in the child class that have the same name as the methods in the parent class. In inheritance, the child class inherits the methods from the parent class. However, it is possible to modify a method in a child class that it has inherited from the parent class. This is particularly useful in cases where the method inherited from the parent class doesn’t quite fit the child class. In such cases, we re-implement the method in the child class. This process of re-implementing a method in the child class is known as Method Overriding.  "
      ],
      "metadata": {
        "id": "HKZ7e-dSYpoV"
      }
    },
    {
      "cell_type": "markdown",
      "source": [
        "**Method overiding**"
      ],
      "metadata": {
        "id": "_gLyTkfWotiw"
      }
    },
    {
      "cell_type": "code",
      "source": [
        "class Bird:\n",
        "  def intro(self):\n",
        "\t  print(\"There are many types of birds.\")\n",
        "\n",
        "  def flight(self):\n",
        "\t  print(\"Most of the birds can fly but some cannot.\")\n",
        "\n",
        "class sparrow(Bird):\n",
        "  def flight(self):\n",
        "\t  print(\"Sparrows can fly.\")\n",
        "\n",
        "class ostrich(Bird):\n",
        "  def flight(self):\n",
        "\t  print(\"Ostriches cannot fly.\")\n",
        "\n",
        "obj_bird = Bird()\n",
        "obj_spr = sparrow()\n",
        "obj_ost = ostrich()\n",
        "\n",
        "obj_bird.intro()\n",
        "obj_bird.flight()\n",
        "\n",
        "obj_spr.intro()\n",
        "obj_spr.flight()\n",
        "\n",
        "obj_ost.intro()\n",
        "obj_ost.flight()\n"
      ],
      "metadata": {
        "colab": {
          "base_uri": "https://localhost:8080/"
        },
        "id": "EWYdv67OYOoc",
        "outputId": "5da8e519-8e1f-4042-cf40-604f26d2ff3b"
      },
      "execution_count": null,
      "outputs": [
        {
          "output_type": "stream",
          "name": "stdout",
          "text": [
            "There are many types of birds.\n",
            "Most of the birds can fly but some cannot.\n",
            "There are many types of birds.\n",
            "Sparrows can fly.\n",
            "There are many types of birds.\n",
            "Ostriches cannot fly.\n"
          ]
        }
      ]
    },
    {
      "cell_type": "markdown",
      "source": [
        "**ducktyping**"
      ],
      "metadata": {
        "id": "LcYjdwkcn-Pf"
      }
    },
    {
      "cell_type": "code",
      "source": [
        "class Duck:\n",
        "    def quack(self):\n",
        "        print(\"Quack!\")\n",
        "\n",
        "\n",
        "\n",
        "\n",
        "class Person:\n",
        "    def quack(self):\n",
        "        print(\"I'm not a duck but I can quack!\")\n",
        "\n",
        "    def show(self):\n",
        "      self.name=\"shubham\"\n",
        "\n",
        "def make_it_quack(self):\n",
        "    self.quack()\n",
        "\n",
        "\n",
        "d = Duck()\n",
        "p = Person()\n",
        "\n",
        "make_it_quack(d)\n",
        "make_it_quack(p)\n",
        "\n"
      ],
      "metadata": {
        "id": "C0BKxbbUYOqg",
        "colab": {
          "base_uri": "https://localhost:8080/"
        },
        "outputId": "c166299a-20f8-4a20-e4f5-d1e2ba3ec212"
      },
      "execution_count": null,
      "outputs": [
        {
          "output_type": "stream",
          "name": "stdout",
          "text": [
            "Quack!\n",
            "I'm not a duck but I can quack!\n"
          ]
        }
      ]
    },
    {
      "cell_type": "code",
      "source": [],
      "metadata": {
        "id": "MRCkS0xkYOxQ"
      },
      "execution_count": null,
      "outputs": []
    }
  ]
}